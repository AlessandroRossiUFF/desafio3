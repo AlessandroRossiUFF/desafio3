{
  "nbformat": 4,
  "nbformat_minor": 0,
  "metadata": {
    "colab": {
      "name": "O Desafio.CR",
      "provenance": [],
      "collapsed_sections": [],
      "toc_visible": true,
      "mount_file_id": "https://github.com/AlessandroRossiUFF/desafio3/blob/main/O_Desafio_CR.ipynb",
      "authorship_tag": "ABX9TyMmDgFpERKPRUKpn0tw3GEp",
      "include_colab_link": true
    },
    "kernelspec": {
      "display_name": "Python 3",
      "name": "python3"
    }
  },
  "cells": [
    {
      "cell_type": "markdown",
      "metadata": {
        "id": "view-in-github",
        "colab_type": "text"
      },
      "source": [
        "<a href=\"https://colab.research.google.com/github/AlessandroRossiUFF/desafio3/blob/main/O_Desafio_CR.ipynb\" target=\"_parent\"><img src=\"https://colab.research.google.com/assets/colab-badge.svg\" alt=\"Open In Colab\"/></a>"
      ]
    },
    {
      "cell_type": "markdown",
      "metadata": {
        "id": "1yEzihxPlm5u"
      },
      "source": [
        "###Você precisa calcular o CR de alunos de uma universidade. Para isto será preciso ler de um arquivo csv a lista de notas dos alunos e, de acordo com as notas e os critérios da universidade, calcular o CR de todos os alunos. Ao final do processo, será preciso mostrar na tela o CR de todos os alunos e qual a média de CR dos cursos.\n",
        "\n",
        "Regras\n",
        "A nota do aluno vai de zero até 100;\n",
        "Uma nota é associada a uma disciplina e a um código de curso;\n",
        "O CR é a média ponderada da nota do aluno naquela turma com a carga horária daquela turma. O cálculo é:\n",
        "CR = Nota(i)*CargaHoraria(i)/TotalCargaHoraria\n",
        "\n",
        "i é a i-ésima turma de um aluno\n",
        "Utilizar Orientação a Objetos para resolver o problema\n",
        "Escolha a linguagem que achar adequada"
      ]
    },
    {
      "cell_type": "markdown",
      "metadata": {
        "id": "pzXfApTSG_PB"
      },
      "source": [
        "#Vamos começar declarando alguns elementos que serão necessários para desenvolver nosso código.\n"
      ]
    },
    {
      "cell_type": "code",
      "metadata": {
        "id": "b4sooRmGom7_",
        "colab": {
          "base_uri": "https://localhost:8080/",
          "height": 419
        },
        "outputId": "619526da-75e2-4a15-80b6-eca7d11bece5"
      },
      "source": [
        "import pandas as pd\n",
        "dados = pd.read_csv(\"/content/drive/MyDrive/notas.csv\", usecols=[0, 1, 2, 3, 4])\n",
        "\n",
        "df_aluno = pd.DataFrame({'Matricula':[],'CR':[],'Horas':[]\n",
        "                         })\n",
        "df_turma = pd.DataFrame({'CODIGO_DE_TURMA':[],'CR':[], 'Horas':[]\n",
        "                         })\n",
        "\n",
        "df_aluno['Matricula'] = dados['MATRICULA'].unique()\n",
        "df_turma['CODIGO_DE_TURMA'] = sorted(dados['COD_CURSO'].unique())\n",
        "\n",
        "class DataBase:\n",
        "  lista = dados\n",
        "  turmaU = sorted(dados['COD_CURSO'].unique())         \n",
        "  matriculaT = dados['MATRICULA']\n",
        "  matriculaU = dados['MATRICULA'].unique()             \n",
        "  horas = dados['CARGA_HORARIA']\n",
        "  notas = dados['NOTA']\n",
        "  horasI = []\n",
        "  horasT = []\n",
        "\n",
        "aluno = DataBase()\n",
        "turma = DataBase()\n",
        "                                  \n",
        "dados\n",
        "#A baixo exibiremos uma amostra de um trecho da exibição do CRV orignial\n",
        "#sem o cálculo do CR."
      ],
      "execution_count": 50,
      "outputs": [
        {
          "output_type": "execute_result",
          "data": {
            "text/html": [
              "<div>\n",
              "<style scoped>\n",
              "    .dataframe tbody tr th:only-of-type {\n",
              "        vertical-align: middle;\n",
              "    }\n",
              "\n",
              "    .dataframe tbody tr th {\n",
              "        vertical-align: top;\n",
              "    }\n",
              "\n",
              "    .dataframe thead th {\n",
              "        text-align: right;\n",
              "    }\n",
              "</style>\n",
              "<table border=\"1\" class=\"dataframe\">\n",
              "  <thead>\n",
              "    <tr style=\"text-align: right;\">\n",
              "      <th></th>\n",
              "      <th>MATRICULA</th>\n",
              "      <th>COD_DISCIPLINA</th>\n",
              "      <th>COD_CURSO</th>\n",
              "      <th>NOTA</th>\n",
              "      <th>CARGA_HORARIA</th>\n",
              "    </tr>\n",
              "  </thead>\n",
              "  <tbody>\n",
              "    <tr>\n",
              "      <th>0</th>\n",
              "      <td>100</td>\n",
              "      <td>SEN00209</td>\n",
              "      <td>4</td>\n",
              "      <td>82</td>\n",
              "      <td>60</td>\n",
              "    </tr>\n",
              "    <tr>\n",
              "      <th>1</th>\n",
              "      <td>100</td>\n",
              "      <td>MPS00012</td>\n",
              "      <td>56</td>\n",
              "      <td>90</td>\n",
              "      <td>30</td>\n",
              "    </tr>\n",
              "    <tr>\n",
              "      <th>2</th>\n",
              "      <td>100</td>\n",
              "      <td>SGE00014</td>\n",
              "      <td>4</td>\n",
              "      <td>8</td>\n",
              "      <td>30</td>\n",
              "    </tr>\n",
              "    <tr>\n",
              "      <th>3</th>\n",
              "      <td>100</td>\n",
              "      <td>GLC00203</td>\n",
              "      <td>21</td>\n",
              "      <td>65</td>\n",
              "      <td>60</td>\n",
              "    </tr>\n",
              "    <tr>\n",
              "      <th>4</th>\n",
              "      <td>100</td>\n",
              "      <td>GCL00100</td>\n",
              "      <td>21</td>\n",
              "      <td>96</td>\n",
              "      <td>60</td>\n",
              "    </tr>\n",
              "    <tr>\n",
              "      <th>...</th>\n",
              "      <td>...</td>\n",
              "      <td>...</td>\n",
              "      <td>...</td>\n",
              "      <td>...</td>\n",
              "      <td>...</td>\n",
              "    </tr>\n",
              "    <tr>\n",
              "      <th>294</th>\n",
              "      <td>116</td>\n",
              "      <td>GLE00415</td>\n",
              "      <td>21</td>\n",
              "      <td>88</td>\n",
              "      <td>60</td>\n",
              "    </tr>\n",
              "    <tr>\n",
              "      <th>295</th>\n",
              "      <td>116</td>\n",
              "      <td>SGE00012</td>\n",
              "      <td>4</td>\n",
              "      <td>0</td>\n",
              "      <td>30</td>\n",
              "    </tr>\n",
              "    <tr>\n",
              "      <th>296</th>\n",
              "      <td>116</td>\n",
              "      <td>GLC00279</td>\n",
              "      <td>21</td>\n",
              "      <td>70</td>\n",
              "      <td>60</td>\n",
              "    </tr>\n",
              "    <tr>\n",
              "      <th>297</th>\n",
              "      <td>116</td>\n",
              "      <td>TCC00325</td>\n",
              "      <td>56</td>\n",
              "      <td>68</td>\n",
              "      <td>60</td>\n",
              "    </tr>\n",
              "    <tr>\n",
              "      <th>298</th>\n",
              "      <td>116</td>\n",
              "      <td>GMA00019</td>\n",
              "      <td>31</td>\n",
              "      <td>5</td>\n",
              "      <td>60</td>\n",
              "    </tr>\n",
              "  </tbody>\n",
              "</table>\n",
              "<p>299 rows × 5 columns</p>\n",
              "</div>"
            ],
            "text/plain": [
              "     MATRICULA COD_DISCIPLINA  COD_CURSO  NOTA  CARGA_HORARIA\n",
              "0          100       SEN00209          4    82             60\n",
              "1          100       MPS00012         56    90             30\n",
              "2          100       SGE00014          4     8             30\n",
              "3          100       GLC00203         21    65             60\n",
              "4          100       GCL00100         21    96             60\n",
              "..         ...            ...        ...   ...            ...\n",
              "294        116       GLE00415         21    88             60\n",
              "295        116       SGE00012          4     0             30\n",
              "296        116       GLC00279         21    70             60\n",
              "297        116       TCC00325         56    68             60\n",
              "298        116       GMA00019         31     5             60\n",
              "\n",
              "[299 rows x 5 columns]"
            ]
          },
          "metadata": {
            "tags": []
          },
          "execution_count": 50
        }
      ]
    },
    {
      "cell_type": "markdown",
      "metadata": {
        "id": "q0kiaCWmHGoO"
      },
      "source": [
        "#Agora vamos calcular o CR dos alunos."
      ]
    },
    {
      "cell_type": "markdown",
      "metadata": {
        "id": "9WHHsyg3GDxs"
      },
      "source": [
        "Nesse bloco de código vamos cálcular a quantidade de horas totais referentes a cada numero de matricula."
      ]
    },
    {
      "cell_type": "code",
      "metadata": {
        "id": "vBkMuERHDZ4d",
        "colab": {
          "base_uri": "https://localhost:8080/"
        },
        "outputId": "665d4954-879c-4f02-a9d1-c41a0a06c521"
      },
      "source": [
        "for i in range(len(aluno.matriculaU)):                 \n",
        "    for j in range(len(aluno.matriculaT)):               #Esse bloco de código é respondável \n",
        "      if aluno.matriculaT[j] == aluno.matriculaU[i]:     #por cálcular a somatória de todas\n",
        "         aluno.horasI.append(aluno.horas[j])             #as horas de aula referentes\n",
        "         dados.loc[j,'indice']=aluno.horasI[j]           #a cada código de matricula.\n",
        "    for j in range(len(aluno.matriculaT)):\n",
        "      if aluno.matriculaT[j] == aluno.matriculaU[i]:\n",
        "         dados.loc[j,'indice'] = sum(aluno.horasI)\n",
        "         s=0\n",
        "         while s < len(aluno.horasI):\n",
        "           aluno.horasI[s]=0                 \n",
        "           s+=1                              \n",
        "aluno.horasT=dados['indice'].tolist()\n",
        "\n",
        "def remove_item(my_list,*args):\n",
        "   deletar = list(args)         \n",
        "   for item in deletar:\n",
        "       while item in my_list:\n",
        "          my_list.remove(item)\n",
        "   return my_list          \n",
        "remove_item(aluno.horasT, 0)  #A função de remover qualquer numero 0 da lista.    "
      ],
      "execution_count": 51,
      "outputs": [
        {
          "output_type": "execute_result",
          "data": {
            "text/plain": [
              "[870.0,\n",
              " 494.0,\n",
              " 806.0,\n",
              " 1443.0,\n",
              " 570.0,\n",
              " 790.0,\n",
              " 1133.0,\n",
              " 824.0,\n",
              " 1980.0,\n",
              " 690.0,\n",
              " 1290.0,\n",
              " 617.0,\n",
              " 2187.0,\n",
              " 210.0,\n",
              " 1035.0,\n",
              " 1944.0,\n",
              " 934.0]"
            ]
          },
          "metadata": {
            "tags": []
          },
          "execution_count": 51
        }
      ]
    },
    {
      "cell_type": "markdown",
      "metadata": {
        "id": "4nPPshdNLe_2"
      },
      "source": [
        "Aqui vamos fazer o calculo do CR referente a cada numero de matricula"
      ]
    },
    {
      "cell_type": "code",
      "metadata": {
        "id": "8F1Cxi-Dff33"
      },
      "source": [
        "for i in range(len(aluno.matriculaU)):    #Esse bloco de código é responsável \n",
        "  cr=0                                    #por calcular o CR referente a cada código.          \n",
        "  for j in range(len(dados)):\n",
        "    if aluno.matriculaT[j] == aluno.matriculaU[i]:\n",
        "      cr += (turma.notas[j] * dados.loc[j,'CARGA_HORARIA']) / aluno.horasT[i]\n",
        "      df_aluno.loc[i,'CR'] = int(cr)\n",
        "Matricula_CR = df_aluno.drop(columns=['Horas'])"
      ],
      "execution_count": 52,
      "outputs": []
    },
    {
      "cell_type": "markdown",
      "metadata": {
        "id": "ulPo8m_GGsn1"
      },
      "source": [
        "#Agora vamos calcular o CR das turmas"
      ]
    },
    {
      "cell_type": "markdown",
      "metadata": {
        "id": "B0RA2h0fNrEG"
      },
      "source": [
        "Primeiro pegaremos a quantidade de horas totais referentes a cada código de curso"
      ]
    },
    {
      "cell_type": "code",
      "metadata": {
        "id": "N0XGCf7qmbHm",
        "colab": {
          "base_uri": "https://localhost:8080/"
        },
        "outputId": "2dc085df-045a-4873-e314-50c578285681"
      },
      "source": [
        "u = []   #Vetores auxiliares que serão usados\n",
        "v = []   #apenas nesse bloco de código  \n",
        "x = []\n",
        "for i in range(len(turma.turmaU)):\n",
        "  for j in range(len(turma.lista)):\n",
        "    if turma.turmaU[i] == dados.loc[j,'COD_CURSO']:\n",
        "      v.append(dados.loc[j,'CARGA_HORARIA'])       \n",
        "  for j in range(len(turma.lista)):\n",
        "    if turma.turmaU[i] == dados.loc[j,'COD_CURSO']:\n",
        "      u.append(sum(v))     \n",
        "      s=0\n",
        "      while s < len(v):\n",
        "        v[s] = 0\n",
        "        s+=1\n",
        "\n",
        "for i in range(len(u)): #Uma outra forma de remo\n",
        "  if u[i] != 0:\n",
        "    x.append(u[i])  \n",
        "turma.horasT = x\n",
        "turma.horasT\n",
        "#Abaixo vamos imprimir o vetor com as horas totais referentes a cada turma."
      ],
      "execution_count": 53,
      "outputs": [
        {
          "output_type": "execute_result",
          "data": {
            "text/plain": [
              "[5460, 6150, 2200, 3167, 840]"
            ]
          },
          "metadata": {
            "tags": []
          },
          "execution_count": 53
        }
      ]
    },
    {
      "cell_type": "markdown",
      "metadata": {
        "id": "mb-79l7OH8yQ"
      },
      "source": [
        "Aqui faremos o calculo para obter o CR referente a cada código de curso"
      ]
    },
    {
      "cell_type": "code",
      "metadata": {
        "id": "YwUoMCQTN1Mn"
      },
      "source": [
        "for i in range(len(turma.turmaU)):          \n",
        "  cr=0                                           \n",
        "  for j in range(len(dados)):\n",
        "    if turma.turmaU[i] == dados.loc[j,'COD_CURSO']:\n",
        "        cr += (turma.notas[j] * dados.loc[j,'CARGA_HORARIA']) / turma.horasT[i]\n",
        "        df_turma.loc[i,'CR'] = int(cr)\n",
        "Turma_CR = df_turma.drop(columns=['Horas'])"
      ],
      "execution_count": 54,
      "outputs": []
    },
    {
      "cell_type": "markdown",
      "metadata": {
        "id": "ivl2r7wQHYWE"
      },
      "source": [
        "#E agora podemos enfim exibir todos os dados obtidos"
      ]
    },
    {
      "cell_type": "markdown",
      "metadata": {
        "id": "mPPnN5d9ny3M"
      },
      "source": [
        "###O CR dos alunos é:"
      ]
    },
    {
      "cell_type": "code",
      "metadata": {
        "colab": {
          "base_uri": "https://localhost:8080/",
          "height": 576
        },
        "id": "5WJiZdv0jdmT",
        "outputId": "834d1cbf-3121-43a2-82ae-428e9d35da77"
      },
      "source": [
        "Matricula_CR"
      ],
      "execution_count": 55,
      "outputs": [
        {
          "output_type": "execute_result",
          "data": {
            "text/html": [
              "<div>\n",
              "<style scoped>\n",
              "    .dataframe tbody tr th:only-of-type {\n",
              "        vertical-align: middle;\n",
              "    }\n",
              "\n",
              "    .dataframe tbody tr th {\n",
              "        vertical-align: top;\n",
              "    }\n",
              "\n",
              "    .dataframe thead th {\n",
              "        text-align: right;\n",
              "    }\n",
              "</style>\n",
              "<table border=\"1\" class=\"dataframe\">\n",
              "  <thead>\n",
              "    <tr style=\"text-align: right;\">\n",
              "      <th></th>\n",
              "      <th>Matricula</th>\n",
              "      <th>CR</th>\n",
              "    </tr>\n",
              "  </thead>\n",
              "  <tbody>\n",
              "    <tr>\n",
              "      <th>0</th>\n",
              "      <td>100</td>\n",
              "      <td>63.0</td>\n",
              "    </tr>\n",
              "    <tr>\n",
              "      <th>1</th>\n",
              "      <td>101</td>\n",
              "      <td>82.0</td>\n",
              "    </tr>\n",
              "    <tr>\n",
              "      <th>2</th>\n",
              "      <td>102</td>\n",
              "      <td>56.0</td>\n",
              "    </tr>\n",
              "    <tr>\n",
              "      <th>3</th>\n",
              "      <td>103</td>\n",
              "      <td>57.0</td>\n",
              "    </tr>\n",
              "    <tr>\n",
              "      <th>4</th>\n",
              "      <td>104</td>\n",
              "      <td>64.0</td>\n",
              "    </tr>\n",
              "    <tr>\n",
              "      <th>5</th>\n",
              "      <td>105</td>\n",
              "      <td>47.0</td>\n",
              "    </tr>\n",
              "    <tr>\n",
              "      <th>6</th>\n",
              "      <td>106</td>\n",
              "      <td>64.0</td>\n",
              "    </tr>\n",
              "    <tr>\n",
              "      <th>7</th>\n",
              "      <td>107</td>\n",
              "      <td>51.0</td>\n",
              "    </tr>\n",
              "    <tr>\n",
              "      <th>8</th>\n",
              "      <td>108</td>\n",
              "      <td>65.0</td>\n",
              "    </tr>\n",
              "    <tr>\n",
              "      <th>9</th>\n",
              "      <td>109</td>\n",
              "      <td>79.0</td>\n",
              "    </tr>\n",
              "    <tr>\n",
              "      <th>10</th>\n",
              "      <td>110</td>\n",
              "      <td>72.0</td>\n",
              "    </tr>\n",
              "    <tr>\n",
              "      <th>11</th>\n",
              "      <td>111</td>\n",
              "      <td>78.0</td>\n",
              "    </tr>\n",
              "    <tr>\n",
              "      <th>12</th>\n",
              "      <td>112</td>\n",
              "      <td>67.0</td>\n",
              "    </tr>\n",
              "    <tr>\n",
              "      <th>13</th>\n",
              "      <td>113</td>\n",
              "      <td>58.0</td>\n",
              "    </tr>\n",
              "    <tr>\n",
              "      <th>14</th>\n",
              "      <td>114</td>\n",
              "      <td>61.0</td>\n",
              "    </tr>\n",
              "    <tr>\n",
              "      <th>15</th>\n",
              "      <td>115</td>\n",
              "      <td>57.0</td>\n",
              "    </tr>\n",
              "    <tr>\n",
              "      <th>16</th>\n",
              "      <td>116</td>\n",
              "      <td>59.0</td>\n",
              "    </tr>\n",
              "  </tbody>\n",
              "</table>\n",
              "</div>"
            ],
            "text/plain": [
              "    Matricula    CR\n",
              "0         100  63.0\n",
              "1         101  82.0\n",
              "2         102  56.0\n",
              "3         103  57.0\n",
              "4         104  64.0\n",
              "5         105  47.0\n",
              "6         106  64.0\n",
              "7         107  51.0\n",
              "8         108  65.0\n",
              "9         109  79.0\n",
              "10        110  72.0\n",
              "11        111  78.0\n",
              "12        112  67.0\n",
              "13        113  58.0\n",
              "14        114  61.0\n",
              "15        115  57.0\n",
              "16        116  59.0"
            ]
          },
          "metadata": {
            "tags": []
          },
          "execution_count": 55
        }
      ]
    },
    {
      "cell_type": "markdown",
      "metadata": {
        "id": "ZMBgeQKGn6wD"
      },
      "source": [
        ""
      ]
    },
    {
      "cell_type": "markdown",
      "metadata": {
        "id": "ZZm9Jl4IoFuT"
      },
      "source": [
        "###O CR das turmas é:"
      ]
    },
    {
      "cell_type": "code",
      "metadata": {
        "colab": {
          "base_uri": "https://localhost:8080/",
          "height": 204
        },
        "id": "cSsQsehD8rkv",
        "outputId": "fdaad88c-0642-4e79-87af-c581e419083d"
      },
      "source": [
        "Turma_CR"
      ],
      "execution_count": 56,
      "outputs": [
        {
          "output_type": "execute_result",
          "data": {
            "text/html": [
              "<div>\n",
              "<style scoped>\n",
              "    .dataframe tbody tr th:only-of-type {\n",
              "        vertical-align: middle;\n",
              "    }\n",
              "\n",
              "    .dataframe tbody tr th {\n",
              "        vertical-align: top;\n",
              "    }\n",
              "\n",
              "    .dataframe thead th {\n",
              "        text-align: right;\n",
              "    }\n",
              "</style>\n",
              "<table border=\"1\" class=\"dataframe\">\n",
              "  <thead>\n",
              "    <tr style=\"text-align: right;\">\n",
              "      <th></th>\n",
              "      <th>CODIGO_DE_TURMA</th>\n",
              "      <th>CR</th>\n",
              "    </tr>\n",
              "  </thead>\n",
              "  <tbody>\n",
              "    <tr>\n",
              "      <th>0</th>\n",
              "      <td>4</td>\n",
              "      <td>49.0</td>\n",
              "    </tr>\n",
              "    <tr>\n",
              "      <th>1</th>\n",
              "      <td>21</td>\n",
              "      <td>74.0</td>\n",
              "    </tr>\n",
              "    <tr>\n",
              "      <th>2</th>\n",
              "      <td>31</td>\n",
              "      <td>55.0</td>\n",
              "    </tr>\n",
              "    <tr>\n",
              "      <th>3</th>\n",
              "      <td>56</td>\n",
              "      <td>67.0</td>\n",
              "    </tr>\n",
              "    <tr>\n",
              "      <th>4</th>\n",
              "      <td>103</td>\n",
              "      <td>84.0</td>\n",
              "    </tr>\n",
              "  </tbody>\n",
              "</table>\n",
              "</div>"
            ],
            "text/plain": [
              "   CODIGO_DE_TURMA    CR\n",
              "0                4  49.0\n",
              "1               21  74.0\n",
              "2               31  55.0\n",
              "3               56  67.0\n",
              "4              103  84.0"
            ]
          },
          "metadata": {
            "tags": []
          },
          "execution_count": 56
        }
      ]
    }
  ]
}